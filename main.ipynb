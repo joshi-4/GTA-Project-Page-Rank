{
 "cells": [
  {
   "cell_type": "code",
   "execution_count": 63,
   "metadata": {},
   "outputs": [],
   "source": [
    "import networkx as nx"
   ]
  },
  {
   "cell_type": "code",
   "execution_count": 64,
   "metadata": {},
   "outputs": [],
   "source": [
    "#PageRank Algorithm\n",
    "def PageRank(G, df=0.15): \n",
    "\n",
    "    #df is the Damping Factor    \n",
    "    StG = nx.stochastic_graph(G, weight= 'weight') \n",
    "    N = StG.number_of_nodes() \n",
    "  \n",
    "    # Starting Vector \n",
    "    ranks = dict.fromkeys(StG, 1.0 / N) \n",
    "     \n",
    "    # Uniform vector for Dangling Nodes \n",
    "    uniform_vec = dict.fromkeys(StG, 1.0 / N)  \n",
    "    dnodes = [n for n in StG if StG.out_degree(n, weight='weight') == 0.0] \n",
    "  \n",
    "    # up to 80 power iterations \n",
    "    for i in range(80): \n",
    "        prev = ranks \n",
    "        ranks = dict.fromkeys(prev.keys(), 0) \n",
    "        dsum = (1 - df) * sum(prev[u] for u in dnodes) \n",
    "        for u in ranks: \n",
    "            for v in StG[u]: \n",
    "                ranks[v] += (1 - df) * StG[u][v]['weight'] * prev[u] \n",
    "            ranks[u] += dsum * uniform_vec[u] + df * uniform_vec[u] \n",
    "  \n",
    "        # Checking Convergence\n",
    "        diff = 0\n",
    "        for u in ranks:\n",
    "            diff += abs(ranks[u]- prev[u])\n",
    "         \n",
    "        if diff < N*(1.0e-6): \n",
    "            return ranks \n",
    "    print('Failed to Converge')"
   ]
  },
  {
   "cell_type": "code",
   "execution_count": 62,
   "metadata": {},
   "outputs": [
    {
     "name": "stdout",
     "output_type": "stream",
     "text": [
      "Node:  0  Value 0.008225064574651848\n",
      "Node:  1  Value 0.01083193968389289\n",
      "Node:  2  Value 0.010828919801963283\n",
      "Node:  3  Value 0.012390951889737049\n",
      "Node:  4  Value 0.00925324296294232\n",
      "Node:  5  Value 0.010829864088611777\n",
      "Node:  6  Value 0.011868028995531079\n",
      "Node:  7  Value 0.01030640453089403\n",
      "Node:  8  Value 0.009783933526114959\n",
      "Node:  9  Value 0.010303432928901488\n",
      "Node:  10  Value 0.011348915383981925\n",
      "Node:  11  Value 0.008745342896356654\n",
      "Node:  12  Value 0.008216824105530736\n",
      "Node:  13  Value 0.010301049018514398\n",
      "Node:  14  Value 0.009267297503813153\n",
      "Node:  15  Value 0.010312523148512122\n",
      "Node:  16  Value 0.010828520933757564\n",
      "Node:  17  Value 0.011345398694306364\n",
      "Node:  18  Value 0.008225816219746256\n",
      "Node:  19  Value 0.01082812784578674\n",
      "Node:  20  Value 0.01187134058255557\n",
      "Node:  21  Value 0.010825247365323112\n",
      "Node:  22  Value 0.00614363312379336\n",
      "Node:  23  Value 0.01030174078702676\n",
      "Node:  24  Value 0.009263696337608403\n",
      "Node:  25  Value 0.010822139106219788\n",
      "Node:  26  Value 0.010307705598665218\n",
      "Node:  27  Value 0.011866800374652037\n",
      "Node:  28  Value 0.011344221080781217\n",
      "Node:  29  Value 0.01134689898255653\n",
      "Node:  30  Value 0.01082569062390345\n",
      "Node:  31  Value 0.011870145367778365\n",
      "Node:  32  Value 0.009267705616294261\n",
      "Node:  33  Value 0.01135164765140113\n",
      "Node:  34  Value 0.010827027671155438\n",
      "Node:  35  Value 0.008735035337557946\n",
      "Node:  36  Value 0.008224860765129433\n",
      "Node:  37  Value 0.010829451506811685\n",
      "Node:  38  Value 0.010826170234538574\n",
      "Node:  39  Value 0.010303511427194602\n",
      "Node:  40  Value 0.010828048599628215\n",
      "Node:  41  Value 0.036036658869093324\n",
      "Node:  42  Value 0.035461055165117425\n",
      "Node:  43  Value 0.03481160020105268\n",
      "Node:  44  Value 0.03317405629965803\n",
      "Node:  45  Value 0.03350602088440611\n",
      "Node:  46  Value 0.032999636171469206\n",
      "Node:  47  Value 0.03232418522524767\n",
      "Node:  48  Value 0.03174743701153179\n",
      "Node:  49  Value 0.031203458089813146\n",
      "Node:  50  Value 0.029892084985454738\n",
      "Node:  51  Value 0.029382831894418066\n",
      "Node:  52  Value 0.02879662464583381\n",
      "Node:  53  Value 0.028965249444431844\n",
      "Node:  54  Value 0.02811936151314955\n",
      "Node:  55  Value 0.027680765827878658\n",
      "Node:  56  Value 0.02645295818270202\n",
      "Node:  57  Value 0.026362419598701028\n",
      "Node:  58  Value 0.02577737325546907\n",
      "Node:  59  Value 0.025281905860449937\n"
     ]
    }
   ],
   "source": [
    "# Running the PageRank Algorithm on a Barabasi Albert Graph\n",
    "G= nx.barabasi_albert_graph(60,41)\n",
    "G = G.to_directed()\n",
    "pr= PageRank(G)\n",
    "\n",
    "for x in pr:\n",
    "    print('Node: ',x, ' Value', pr[x])"
   ]
  },
  {
   "cell_type": "code",
   "execution_count": 65,
   "metadata": {
    "scrolled": false
   },
   "outputs": [
    {
     "name": "stdout",
     "output_type": "stream",
     "text": [
      "Number of Nodes:  106\n",
      "Number of Edges:  141\n",
      "PageRank:  {'amazon.co.jp': 0.007066264207526539, 'amazon.ca': 0.0076668989899892235, 'amazon.cn': 0.0076668989899892235, 'amazon.co.uk': 0.0076668989899892235, 'amazon.com': 0.007414795105157602, 'amazon.de': 0.007280140148275213, 'amazon.fr': 0.007666898989989223, 'bookdepository.co.uk': 0.007414795105157602, 'javari.jp': 0.007028036263443593, 'myhabit.com': 0.007666898989989223, 'shopbop.com': 0.007666898989989223, 'abebooks.com': 0.00667950536581253, 'amazon.es': 0.00667950536581253, 'amazon.it': 0.00667950536581253, 'audible.com': 0.00667950536581253, 'beautybar.com': 0.00667950536581253, 'bookdepository.com': 0.00667950536581253, 'diapers.com': 0.00667950536581253, 'dpreview.com': 0.012142826486797705, 'endless.com': 0.00667950536581253, 'fabric.com': 0.00667950536581253, 'imdb.com': 0.00983676004184856, 'smallparts.com': 0.00667950536581253, 'soap.com': 0.00667950536581253, 'wag.com': 0.00667950536581253, 'woot.com': 0.00667950536581253, 'yoyo.com': 0.00667950536581253, 'zappos.com': 0.00667950536581253, 'abebooks.de': 0.006814160322694919, 'amazon-presse.de': 0.006814160322694919, 'audible.de': 0.006814160322694919, 'buyvip.com': 0.006814160322694919, 'imdb.de': 0.006814160322694919, 'javari.de': 0.006814160322694919, 'lovefilm.de': 0.006814160322694919, 'animationplayhouse.com': 0.00642740148098091, 'youtube.com': 0.016119265401656317, 'azspot.net': 0.00642740148098091, 'tumblr.com': 0.015904254686443048, 'blogalaxia.com': 0.00958465615701694, 'blogspot.com': 0.08542425762544205, 'perublogs.com': 0.010500404358451577, 'blogia.com': 0.00642740148098091, 'blogg.se': 0.00958465615701694, 'canalblog.com': 0.017730661911958275, 'creativecommons.org': 0.024220103814991234, 'facebook.com': 0.010440933565457874, 'flickr.com': 0.012587057799835592, 'goodreads.com': 0.00958465615701694, 'google.com': 0.015904254686443048, 'histats.com': 0.00958465615701694, 'linkwithin.com': 0.00958465615701694, 'livejournal.com': 0.00958465615701694, 'ning.com': 0.00958465615701694, 'nytimes.com': 0.00958465615701694, 'over-blog.com': 0.00958465615701694, 'sapo.pt': 0.00958465615701694, 'twitter.com': 0.010655944280671143, 'typepad.com': 0.010655944280671143, 'wikipedia.org': 0.02158258652264149, 'wordpress.com': 0.012603530822394154, 'yahoo.com': 0.013150763969634001, 'classicalvalues.com': 0.00642740148098091, 'downthisvideo.com': 0.00642740148098091, 'memeorandum.com': 0.00642740148098091, 'mesvilaweb.cat': 0.00642740148098091, 'mu.nu': 0.00642740148098091, 'pjmedia.com': 0.00642740148098091, 'qwika.com': 0.00642740148098091, 'realestate.com.au': 0.010153310242790831, 'rea-group.com': 0.015057970139281875, 'eltangoysusinvitados.com': 0.00642740148098091, 'apple.com': 0.010849786702038906, 'flickr.net': 0.009993509293597972, 'img-dpreview.com': 0.00642740148098091, 'kenyaunlimited.com': 0.00642740148098091, '1000notes.com': 0.00835851500014536, 'cubicle17.com': 0.00835851500014536, 'disqus.com': 0.00835851500014536, 'instagr.am': 0.00835851500014536, 'minimalist.co': 0.00835851500014536, 'petervidani.com': 0.00835851500014536, 'technorati.com': 0.009446276146358125, 'vodpod.com': 0.007498689604635112, 'lockerz.com': 0.012801340843156397, 'wikidict.de': 0.00642740148098091, 'wikimedia.org': 0.01559952801797003, 'wiktionary.org': 0.00642740148098091, 'automattic.com': 0.007498689604635112, 'gmpg.org': 0.007498689604635112, 'wordpress.org': 0.007498689604635112, 'rivals.com': 0.010153310242790831, 'yahoo.com.au': 0.010153310242790831, '100500.tv': 0.0072836788894218435, 'angrybirds.com': 0.0072836788894218435, 'carambatv.ru': 0.0072836788894218435, 'cyprien.fr': 0.0072836788894218435, 'drdrum.com': 0.0072836788894218435, 'hockeyfights.com': 0.0072836788894218435, 'icecastles.com': 0.0072836788894218435, 'joblo.com': 0.0072836788894218435, 'minecraftforum.net': 0.0072836788894218435, 'moxnews.com': 0.0072836788894218435, 'spreadshirt.com': 0.0072836788894218435, 'tinyurl.com': 0.0072836788894218435, 'zoomblog.com': 0.00642740148098091}\n"
     ]
    }
   ],
   "source": [
    "# Making A NX Graph from Sample Data\n",
    "nodesfile = open('./example_index.txt')\n",
    "nodes = {}\n",
    "\n",
    "for line in nodesfile:\n",
    "    line.strip()\n",
    "    name,index = line.split('\\t')\n",
    "    index = index[:-1]\n",
    "    nodes[index] = name\n",
    "    \n",
    "edgefile = open('./example_arcs.txt')\n",
    "\n",
    "Gr = nx.DiGraph()\n",
    "\n",
    "for line in edgefile:\n",
    "    line = line.strip()\n",
    "    n1,n2 = line.split('\\t')\n",
    "    n1 = nodes[n1]\n",
    "    n2 = nodes[n2]\n",
    "    Gr.add_edge(n1,n2)\n",
    "\n",
    "# Running Page Rank Algo on above formed Graph\n",
    "print('Number of Nodes: ',Gr.number_of_nodes())\n",
    "print('Number of Edges: ',Gr.number_of_edges())\n",
    "pg2 = PageRank(Gr)\n",
    "print('PageRank: ', pg2)"
   ]
  },
  {
   "cell_type": "code",
   "execution_count": null,
   "metadata": {
    "scrolled": true
   },
   "outputs": [],
   "source": []
  },
  {
   "cell_type": "code",
   "execution_count": null,
   "metadata": {},
   "outputs": [],
   "source": []
  }
 ],
 "metadata": {
  "kernelspec": {
   "display_name": "Python 3",
   "language": "python",
   "name": "python3"
  },
  "language_info": {
   "codemirror_mode": {
    "name": "ipython",
    "version": 3
   },
   "file_extension": ".py",
   "mimetype": "text/x-python",
   "name": "python",
   "nbconvert_exporter": "python",
   "pygments_lexer": "ipython3",
   "version": "3.8.3"
  }
 },
 "nbformat": 4,
 "nbformat_minor": 4
}
